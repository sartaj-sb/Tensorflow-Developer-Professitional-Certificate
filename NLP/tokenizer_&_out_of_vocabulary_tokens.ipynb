{
  "nbformat": 4,
  "nbformat_minor": 0,
  "metadata": {
    "colab": {
      "provenance": [],
      "authorship_tag": "ABX9TyMntFsS0BK2bWcxdPgcDxrN",
      "include_colab_link": true
    },
    "kernelspec": {
      "name": "python3",
      "display_name": "Python 3"
    },
    "language_info": {
      "name": "python"
    }
  },
  "cells": [
    {
      "cell_type": "markdown",
      "metadata": {
        "id": "view-in-github",
        "colab_type": "text"
      },
      "source": [
        "<a href=\"https://colab.research.google.com/github/sartaj-sb/Tensorflow-Developer-Professitional-Certificate/blob/main/NLP/tokenizer_%26_out_of_vocabulary_tokens.ipynb\" target=\"_parent\"><img src=\"https://colab.research.google.com/assets/colab-badge.svg\" alt=\"Open In Colab\"/></a>"
      ]
    },
    {
      "cell_type": "code",
      "execution_count": 2,
      "metadata": {
        "id": "5pkQRy4-7LBS"
      },
      "outputs": [],
      "source": [
        "import tensorflow as tf\n",
        "from tensorflow import keras\n",
        "from tensorflow.keras.preprocessing.text import Tokenizer\n"
      ]
    },
    {
      "cell_type": "code",
      "source": [
        "sentences = [\n",
        "    'I love my dog!',\n",
        "    'my name is sartaj!',\n",
        "    'I love my cat',\n",
        "    'there are around 3 people how to here'\n",
        "]\n",
        "#Tokenizer with out of the word token\n",
        "tokenizer = Tokenizer(num_words=100, oov_token=\"<OOV>\")\n",
        "tokenizer.fit_on_texts(sentences)\n",
        "word_index = tokenizer.word_index\n",
        "print(word_index)\n",
        "sequences = tokenizer.texts_to_sequences(sentences)\n",
        "print(sequences)"
      ],
      "metadata": {
        "colab": {
          "base_uri": "https://localhost:8080/"
        },
        "id": "GEGb7NTO7kfS",
        "outputId": "4d2af171-f727-47a8-bdf1-7512f2617b01"
      },
      "execution_count": 22,
      "outputs": [
        {
          "output_type": "stream",
          "name": "stdout",
          "text": [
            "{'<OOV>': 1, 'my': 2, 'i': 3, 'love': 4, 'dog': 5, 'name': 6, 'is': 7, 'sartaj': 8, 'cat': 9, 'there': 10, 'are': 11, 'around': 12, '3': 13, 'people': 14, 'how': 15, 'to': 16, 'here': 17}\n",
            "[[3, 4, 2, 5], [2, 6, 7, 8], [3, 4, 2, 9], [10, 11, 12, 13, 14, 15, 16, 17]]\n"
          ]
        }
      ]
    },
    {
      "cell_type": "code",
      "source": [
        "from tensorflow.keras.preprocessing.sequence import pad_sequences\n",
        "padded = pad_sequences(sequences, maxlen=5)\n",
        "print(padded)\n",
        "padded2 = pad_sequences(sequences,padding='post')\n",
        "print(padded2)\n",
        "padded3 = pad_sequences(sequences,padding='post',maxlen=5)\n",
        "print(padded3)\n",
        "padded4 = pad_sequences(sequences,padding='post',maxlen=5, truncating = 'post')\n",
        "print(padded4)"
      ],
      "metadata": {
        "id": "Xlj7JiP58vn2",
        "colab": {
          "base_uri": "https://localhost:8080/"
        },
        "outputId": "ad7ce451-45db-4788-b752-85c7c348f859"
      },
      "execution_count": 21,
      "outputs": [
        {
          "output_type": "stream",
          "name": "stdout",
          "text": [
            "[[ 0  2  3  1  4]\n",
            " [ 0  1  5  6  7]\n",
            " [ 0  2  3  1  8]\n",
            " [12 13 14 15 16]]\n",
            "[[ 2  3  1  4  0  0  0  0]\n",
            " [ 1  5  6  7  0  0  0  0]\n",
            " [ 2  3  1  8  0  0  0  0]\n",
            " [ 9 10 11 12 13 14 15 16]]\n",
            "[[ 2  3  1  4  0]\n",
            " [ 1  5  6  7  0]\n",
            " [ 2  3  1  8  0]\n",
            " [12 13 14 15 16]]\n",
            "[[ 2  3  1  4  0]\n",
            " [ 1  5  6  7  0]\n",
            " [ 2  3  1  8  0]\n",
            " [ 9 10 11 12 13]]\n"
          ]
        }
      ]
    },
    {
      "cell_type": "code",
      "source": [
        "test_data = [\n",
        "    'i really love my dog',\n",
        "    'my dog loves my manatee',\n",
        "    'this is harder'\n",
        "]\n",
        "\n",
        "# Generate the sequences\n",
        "test_seq = tokenizer.texts_to_sequences(test_data)\n",
        "\n",
        "# Print the word index dictionary\n",
        "print(\"\\nWord Index = \" , word_index)\n",
        "\n",
        "# Print the sequences with OOV\n",
        "print(\"\\nTest Sequence = \", test_seq)\n",
        "\n",
        "# Print the padded result\n",
        "padded = pad_sequences(test_seq, maxlen=10)\n",
        "print(\"\\nPadded Test Sequence: \")\n",
        "print(padded)"
      ],
      "metadata": {
        "colab": {
          "base_uri": "https://localhost:8080/"
        },
        "id": "7L6yJe4XVtJ9",
        "outputId": "c06fa1a6-98c5-4d9f-d5a9-54a59df294c6"
      },
      "execution_count": 24,
      "outputs": [
        {
          "output_type": "stream",
          "name": "stdout",
          "text": [
            "\n",
            "Word Index =  {'<OOV>': 1, 'my': 2, 'i': 3, 'love': 4, 'dog': 5, 'name': 6, 'is': 7, 'sartaj': 8, 'cat': 9, 'there': 10, 'are': 11, 'around': 12, '3': 13, 'people': 14, 'how': 15, 'to': 16, 'here': 17}\n",
            "\n",
            "Test Sequence =  [[3, 1, 4, 2, 5], [2, 5, 1, 2, 1], [1, 7, 1]]\n",
            "\n",
            "Padded Test Sequence: \n",
            "[[0 0 0 0 0 3 1 4 2 5]\n",
            " [0 0 0 0 0 2 5 1 2 1]\n",
            " [0 0 0 0 0 0 0 1 7 1]]\n"
          ]
        }
      ]
    },
    {
      "cell_type": "code",
      "source": [],
      "metadata": {
        "id": "NeQQEMP9YLTs"
      },
      "execution_count": null,
      "outputs": []
    }
  ]
}