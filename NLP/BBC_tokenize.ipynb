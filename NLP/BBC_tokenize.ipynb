{
 "cells": [
  {
   "cell_type": "code",
   "execution_count": 1,
   "id": "ac4e5265",
   "metadata": {},
   "outputs": [
    {
     "name": "stderr",
     "output_type": "stream",
     "text": [
      "C:\\Users\\wwwsa\\anaconda3\\lib\\site-packages\\scipy\\__init__.py:155: UserWarning: A NumPy version >=1.18.5 and <1.25.0 is required for this version of SciPy (detected version 1.25.0\n",
      "  warnings.warn(f\"A NumPy version >={np_minversion} and <{np_maxversion}\"\n"
     ]
    }
   ],
   "source": [
    "import csv\n",
    "from tensorflow.keras.preprocessing.text import Tokenizer\n",
    "from tensorflow.keras.preprocessing.sequence import pad_sequences"
   ]
  },
  {
   "cell_type": "code",
   "execution_count": 9,
   "id": "228aa4b7",
   "metadata": {},
   "outputs": [
    {
     "name": "stdout",
     "output_type": "stream",
     "text": [
      "First line (header) looks like this:\n",
      "\n",
      "category,text\n",
      "\n",
      "Each data point looks like this:\n",
      "\n",
      "tech,tv future in the hands of viewers with home theatre systems  plasma high-definition tvs  and digital video recorders moving into the living room  the way people watch tv will be radically different in five years  time.  that is according to an expert panel which gathered at the annual consumer electronics show in las vegas to discuss how these new technologies will impact one of our favourite pastimes. with the us leading the trend  programmes and other content will be delivered to viewers via home networks  through cable  satellite  telecoms companies  and broadband service providers to front rooms and portable devices.  one of the most talked-about technologies of ces has been digital and personal video recorders (dvr and pvr). these set-top boxes  like the us s tivo and the uk s sky+ system  allow people to record  store  play  pause and forward wind tv programmes when they want.  essentially  the technology allows for much more personalised tv. they are also being built-in to high-definition tv sets  which are big business in japan and the us  but slower to take off in europe because of the lack of high-definition programming. not only can people forward wind through adverts  they can also forget about abiding by network and channel schedules  putting together their own a-la-carte entertainment. but some us networks and cable and satellite companies are worried about what it means for them in terms of advertising revenues as well as  brand identity  and viewer loyalty to channels. although the us leads in this technology at the moment  it is also a concern that is being raised in europe  particularly with the growing uptake of services like sky+.  what happens here today  we will see in nine months to a years  time in the uk   adam hume  the bbc broadcast s futurologist told the bbc news website. for the likes of the bbc  there are no issues of lost advertising revenue yet. it is a more pressing issue at the moment for commercial uk broadcasters  but brand loyalty is important for everyone.  we will be talking more about content brands rather than network brands   said tim hanlon  from brand communications firm starcom mediavest.  the reality is that with broadband connections  anybody can be the producer of content.  he added:  the challenge now is that it is hard to promote a programme with so much choice.   what this means  said stacey jolna  senior vice president of tv guide tv group  is that the way people find the content they want to watch has to be simplified for tv viewers. it means that networks  in us terms  or channels could take a leaf out of google s book and be the search engine of the future  instead of the scheduler to help people find what they want to watch. this kind of channel model might work for the younger ipod generation which is used to taking control of their gadgets and what they play on them. but it might not suit everyone  the panel recognised. older generations are more comfortable with familiar schedules and channel brands because they know what they are getting. they perhaps do not want so much of the choice put into their hands  mr hanlon suggested.  on the other end  you have the kids just out of diapers who are pushing buttons already - everything is possible and available to them   said mr hanlon.  ultimately  the consumer will tell the market they want.   of the 50 000 new gadgets and technologies being showcased at ces  many of them are about enhancing the tv-watching experience. high-definition tv sets are everywhere and many new models of lcd (liquid crystal display) tvs have been launched with dvr capability built into them  instead of being external boxes. one such example launched at the show is humax s 26-inch lcd tv with an 80-hour tivo dvr and dvd recorder. one of the us s biggest satellite tv companies  directtv  has even launched its own branded dvr at the show with 100-hours of recording capability  instant replay  and a search function. the set can pause and rewind tv for up to 90 hours. and microsoft chief bill gates announced in his pre-show keynote speech a partnership with tivo  called tivotogo  which means people can play recorded programmes on windows pcs and mobile devices. all these reflect the increasing trend of freeing up multimedia so that people can watch what they want  when they want.\n",
      "\n"
     ]
    }
   ],
   "source": [
    "\n",
    "with open(\"bbc-text.csv\", 'r') as csvfile:\n",
    "    print(f\"First line (header) looks like this:\\n\\n{csvfile.readline()}\")\n",
    "    print(f\"Each data point looks like this:\\n\\n{csvfile.readline()}\")   "
   ]
  },
  {
   "cell_type": "code",
   "execution_count": 21,
   "id": "32bd8345",
   "metadata": {},
   "outputs": [
    {
     "name": "stdout",
     "output_type": "stream",
     "text": [
      "<class '_io.TextIOWrapper'>\n"
     ]
    }
   ],
   "source": [
    "print(type(csvfile))"
   ]
  },
  {
   "cell_type": "code",
   "execution_count": 31,
   "id": "f921f740",
   "metadata": {},
   "outputs": [],
   "source": [
    "# function to remove stop words\n",
    "def remove_stopword(sentence):\n",
    "    \n",
    "    #list of stopwords\n",
    "    stopwords = [\"a\", \"about\", \"above\", \"after\", \"again\", \"against\", \"all\", \"am\", \"an\", \"and\", \"any\", \"are\", \"as\", \"at\", \"be\", \"because\", \"been\", \"before\", \"being\", \"below\", \"between\", \"both\", \"but\", \"by\", \"could\", \"did\", \"do\", \"does\", \"doing\", \"down\", \"during\", \"each\", \"few\", \"for\", \"from\", \"further\", \"had\", \"has\", \"have\", \"having\", \"he\", \"he'd\", \"he'll\", \"he's\", \"her\", \"here\", \"here's\", \"hers\", \"herself\", \"him\", \"himself\", \"his\", \"how\", \"how's\", \"i\", \"i'd\", \"i'll\", \"i'm\", \"i've\", \"if\", \"in\", \"into\", \"is\", \"it\", \"it's\", \"its\", \"itself\", \"let's\", \"me\", \"more\", \"most\", \"my\", \"myself\", \"nor\", \"of\", \"on\", \"once\", \"only\", \"or\", \"other\", \"ought\", \"our\", \"ours\", \"ourselves\", \"out\", \"over\", \"own\", \"same\", \"she\", \"she'd\", \"she'll\", \"she's\", \"should\", \"so\", \"some\", \"such\", \"than\", \"that\", \"that's\", \"the\", \"their\", \"theirs\", \"them\", \"themselves\", \"then\", \"there\", \"there's\", \"these\", \"they\", \"they'd\", \"they'll\", \"they're\", \"they've\", \"this\", \"those\", \"through\", \"to\", \"too\", \"under\", \"until\", \"up\", \"very\", \"was\", \"we\", \"we'd\", \"we'll\", \"we're\", \"we've\", \"were\", \"what\", \"what's\", \"when\", \"when's\", \"where\", \"where's\", \"which\", \"while\", \"who\", \"who's\", \"whom\", \"why\", \"why's\", \"with\", \"would\", \"you\", \"you'd\", \"you'll\", \"you're\", \"you've\", \"your\", \"yours\", \"yourself\", \"yourselves\" ]\n",
    "    # sentence converted to lowercase\n",
    "    sentence = sentence.lower()\n",
    "    \n",
    "    #filtering stopwords out of the sentences\n",
    "    words = sentence.split()\n",
    "    output = [word for word in words if word not in stopwords]\n",
    "    sentence = ' '.join(output)\n",
    "    \n",
    "    return sentence\n"
   ]
  },
  {
   "cell_type": "code",
   "execution_count": 32,
   "id": "b277f174",
   "metadata": {},
   "outputs": [
    {
     "name": "stdout",
     "output_type": "stream",
     "text": [
      "<class 'list'>\n"
     ]
    }
   ],
   "source": [
    "stopwords=[\"a\", \"about\", \"above\", \"after\", \"again\", \"against\", \"all\", \"am\", \"an\", \"and\", \"any\", \"are\", \"as\", \"at\", \"be\", \"because\", \"been\", \"before\", \"being\", \"below\", \"between\", \"both\", \"but\", \"by\", \"could\", \"did\", \"do\", \"does\", \"doing\", \"down\", \"during\", \"each\", \"few\", \"for\", \"from\", \"further\", \"had\", \"has\", \"have\", \"having\", \"he\", \"he'd\", \"he'll\", \"he's\", \"her\", \"here\", \"here's\", \"hers\", \"herself\", \"him\", \"himself\", \"his\", \"how\", \"how's\", \"i\", \"i'd\", \"i'll\", \"i'm\", \"i've\", \"if\", \"in\", \"into\", \"is\", \"it\", \"it's\", \"its\", \"itself\", \"let's\", \"me\", \"more\", \"most\", \"my\", \"myself\", \"nor\", \"of\", \"on\", \"once\", \"only\", \"or\", \"other\", \"ought\", \"our\", \"ours\", \"ourselves\", \"out\", \"over\", \"own\", \"same\", \"she\", \"she'd\", \"she'll\", \"she's\", \"should\", \"so\", \"some\", \"such\", \"than\", \"that\", \"that's\", \"the\", \"their\", \"theirs\", \"them\", \"themselves\", \"then\", \"there\", \"there's\", \"these\", \"they\", \"they'd\", \"they'll\", \"they're\", \"they've\", \"this\", \"those\", \"through\", \"to\", \"too\", \"under\", \"until\", \"up\", \"very\", \"was\", \"we\", \"we'd\", \"we'll\", \"we're\", \"we've\", \"were\", \"what\", \"what's\", \"when\", \"when's\", \"where\", \"where's\", \"which\", \"while\", \"who\", \"who's\", \"whom\", \"why\", \"why's\", \"with\", \"would\", \"you\", \"you'd\", \"you'll\", \"you're\", \"you've\", \"your\", \"yours\", \"yourself\", \"yourselves\" ]\n",
    "    \n",
    "print(type(stopwords))"
   ]
  },
  {
   "cell_type": "code",
   "execution_count": 33,
   "id": "4c07b20f",
   "metadata": {},
   "outputs": [
    {
     "name": "stdout",
     "output_type": "stream",
     "text": [
      "153\n"
     ]
    }
   ],
   "source": [
    "print(len(stopwords))"
   ]
  },
  {
   "cell_type": "code",
   "execution_count": 35,
   "id": "30fa5269",
   "metadata": {},
   "outputs": [
    {
     "data": {
      "text/plain": [
       "'agriculture primary occupation tribe'"
      ]
     },
     "execution_count": 35,
     "metadata": {},
     "output_type": "execute_result"
    }
   ],
   "source": [
    "remove_stopword(\"agriculture is the primary occupation of the tribe here\")"
   ]
  },
  {
   "cell_type": "code",
   "execution_count": 40,
   "id": "df9c117e",
   "metadata": {},
   "outputs": [],
   "source": [
    "#Parsing data in Python involves breaking down a given text\n",
    "#or file into smaller parts that can be easily analyzed and manipulated.\n",
    "def parse_data_from_file(filename):\n",
    "    #variable initialization\n",
    "    #two empty strings are created\n",
    "    sentences= []\n",
    "    labels=[]\n",
    "    #The with statement opens the CSV file specified by filename in read mode ('r')\n",
    "    # and assigns the file object to the csvfile variable.\n",
    "    #The with statement ensures proper file closing even if exceptions occur.\n",
    "    with open(filename,'r') as csvfile:\n",
    "        reader = csv.reader(csvfile,delimiter=',')\n",
    "        #skip header\n",
    "        next(reader,None)\n",
    "        \n",
    "        for row in reader:\n",
    "            labels.append(remove_stopword(row[0]))\n",
    "            sentences.append(remove_stopword(row[1]))\n",
    "    \n",
    "    return sentences,labels\n",
    "        "
   ]
  },
  {
   "cell_type": "code",
   "execution_count": 43,
   "id": "b5aaf31e",
   "metadata": {},
   "outputs": [],
   "source": [
    "sentences,labels = parse_data_from_file(\"bbc-text.csv\")"
   ]
  },
  {
   "cell_type": "code",
   "execution_count": 44,
   "id": "1c470e95",
   "metadata": {},
   "outputs": [
    {
     "data": {
      "text/plain": [
       "2225"
      ]
     },
     "execution_count": 44,
     "metadata": {},
     "output_type": "execute_result"
    }
   ],
   "source": [
    "len(sentences)"
   ]
  },
  {
   "cell_type": "code",
   "execution_count": 45,
   "id": "d74c483b",
   "metadata": {},
   "outputs": [
    {
     "data": {
      "text/plain": [
       "2225"
      ]
     },
     "execution_count": 45,
     "metadata": {},
     "output_type": "execute_result"
    }
   ],
   "source": [
    "len(labels)"
   ]
  },
  {
   "cell_type": "code",
   "execution_count": 53,
   "id": "0d61c887",
   "metadata": {},
   "outputs": [
    {
     "name": "stdout",
     "output_type": "stream",
     "text": [
      "<class 'list'>\n",
      "<class 'list'>\n"
     ]
    }
   ],
   "source": [
    "print(type(sentences))\n",
    "print(type(labels))\n"
   ]
  },
  {
   "cell_type": "code",
   "execution_count": 58,
   "id": "e9a82a73",
   "metadata": {},
   "outputs": [
    {
     "name": "stdout",
     "output_type": "stream",
     "text": [
      "['tv future hands viewers home theatre systems plasma high-definition tvs digital video recorders moving living room way people watch tv will radically different five years time. according expert panel gathered annual consumer electronics show las vegas discuss new technologies will impact one favourite pastimes. us leading trend programmes content will delivered viewers via home networks cable satellite telecoms companies broadband service providers front rooms portable devices. one talked-about technologies ces digital personal video recorders (dvr pvr). set-top boxes like us s tivo uk s sky+ system allow people record store play pause forward wind tv programmes want. essentially technology allows much personalised tv. also built-in high-definition tv sets big business japan us slower take off europe lack high-definition programming. not can people forward wind adverts can also forget abiding network channel schedules putting together a-la-carte entertainment. us networks cable satellite companies worried means terms advertising revenues well brand identity viewer loyalty channels. although us leads technology moment also concern raised europe particularly growing uptake services like sky+. happens today will see nine months years time uk adam hume bbc broadcast s futurologist told bbc news website. likes bbc no issues lost advertising revenue yet. pressing issue moment commercial uk broadcasters brand loyalty important everyone. will talking content brands rather network brands said tim hanlon brand communications firm starcom mediavest. reality broadband connections anybody can producer content. added: challenge now hard promote programme much choice. means said stacey jolna senior vice president tv guide tv group way people find content want watch simplified tv viewers. means networks us terms channels take leaf google s book search engine future instead scheduler help people find want watch. kind channel model might work younger ipod generation used taking control gadgets play them. might not suit everyone panel recognised. older generations comfortable familiar schedules channel brands know getting. perhaps not want much choice put hands mr hanlon suggested. end kids just diapers pushing buttons already - everything possible available said mr hanlon. ultimately consumer will tell market want. 50 000 new gadgets technologies showcased ces many enhancing tv-watching experience. high-definition tv sets everywhere many new models lcd (liquid crystal display) tvs launched dvr capability built instead external boxes. one example launched show humax s 26-inch lcd tv 80-hour tivo dvr dvd recorder. one us s biggest satellite tv companies directtv even launched branded dvr show 100-hours recording capability instant replay search function. set can pause rewind tv 90 hours. microsoft chief bill gates announced pre-show keynote speech partnership tivo called tivotogo means people can play recorded programmes windows pcs mobile devices. reflect increasing trend freeing multimedia people can watch want want.', 'worldcom boss left books alone former worldcom boss bernie ebbers accused overseeing $11bn (â£5.8bn) fraud never made accounting decisions witness told jurors. david myers made comments questioning defence lawyers arguing mr ebbers not responsible worldcom s problems. phone company collapsed 2002 prosecutors claim losses hidden protect firm s shares. mr myers already pleaded guilty fraud assisting prosecutors. monday defence lawyer reid weingarten tried distance client allegations. cross examination asked mr myers ever knew mr ebbers make accounting decision . not aware mr myers replied. ever know mr ebbers make accounting entry worldcom books mr weingarten pressed. no replied witness. mr myers admitted ordered false accounting entries request former worldcom chief financial officer scott sullivan. defence lawyers trying paint mr sullivan admitted fraud will testify later trial mastermind behind worldcom s accounting house cards. mr ebbers team meanwhile looking portray affable boss admission pe graduate economist. whatever abilities mr ebbers transformed worldcom relative unknown $160bn telecoms giant investor darling late 1990s. worldcom s problems mounted however competition increased telecoms boom petered out. firm finally collapsed shareholders lost $180bn 20 000 workers lost jobs. mr ebbers trial expected last two months found guilty former ceo faces substantial jail sentence. firmly declared innocence.']\n"
     ]
    }
   ],
   "source": [
    "#printing the first two items of the list\n",
    "print(sentences[:2])"
   ]
  },
  {
   "cell_type": "code",
   "execution_count": 55,
   "id": "8618bc9a",
   "metadata": {},
   "outputs": [
    {
     "name": "stdout",
     "output_type": "stream",
     "text": [
      "['tech', 'business', 'sport', 'sport', 'entertainment', 'politics', 'politics', 'sport', 'sport', 'entertainment']\n"
     ]
    }
   ],
   "source": [
    "print(labels[:10])"
   ]
  },
  {
   "cell_type": "code",
   "execution_count": 62,
   "id": "64d89770",
   "metadata": {},
   "outputs": [],
   "source": [
    "def fit_tokenizer(sentences):\n",
    "    \n",
    "    # instantiate the Tokenizer class by passing in the oov_token argument\n",
    "    tokenizer = Tokenizer(oov_token=\"<OOV>\")\n",
    "    #fit on the sentences\n",
    "    tokenizer.fit_on_texts(sentences)\n",
    "    \n",
    "    return tokenizer"
   ]
  },
  {
   "cell_type": "code",
   "execution_count": 63,
   "id": "33f9d079",
   "metadata": {},
   "outputs": [],
   "source": [
    "tokenizer = fit_tokenizer(sentences)\n",
    "word_index = tokenizer.word_index"
   ]
  },
  {
   "cell_type": "code",
   "execution_count": 67,
   "id": "6fb88db7",
   "metadata": {},
   "outputs": [
    {
     "name": "stdout",
     "output_type": "stream",
     "text": [
      "<class 'keras.preprocessing.text.Tokenizer'>\n"
     ]
    }
   ],
   "source": [
    "print(type(tokenizer))\n"
   ]
  },
  {
   "cell_type": "code",
   "execution_count": 68,
   "id": "ee585b7d",
   "metadata": {},
   "outputs": [
    {
     "name": "stdout",
     "output_type": "stream",
     "text": [
      "<class 'dict'>\n",
      "29714\n"
     ]
    }
   ],
   "source": [
    "print(type(word_index))\n",
    "print(len(word_index))"
   ]
  },
  {
   "cell_type": "code",
   "execution_count": 70,
   "id": "7667f4d1",
   "metadata": {},
   "outputs": [
    {
     "name": "stdout",
     "output_type": "stream",
     "text": [
      "OOV TOKEN YES\n"
     ]
    }
   ],
   "source": [
    "print(\"OOV TOKEN YES\" if \"<OOV>\" in word_index else \"OOV TOKEN NO\")"
   ]
  },
  {
   "cell_type": "code",
   "execution_count": 73,
   "id": "650364a7",
   "metadata": {},
   "outputs": [
    {
     "name": "stdout",
     "output_type": "stream",
     "text": [
      "<OOV>: 1\n",
      "s: 2\n",
      "said: 3\n",
      "will: 4\n",
      "not: 5\n",
      "mr: 6\n",
      "year: 7\n",
      "also: 8\n",
      "people: 9\n",
      "new: 10\n"
     ]
    }
   ],
   "source": [
    "#printing the first 10 key value pairs of the word index dictionary\n",
    "first_10_pairs = list(word_index.items())[:10]\n",
    "\n",
    "for key, value in first_10_pairs:\n",
    "    print(f\"{key}: {value}\")"
   ]
  },
  {
   "cell_type": "code",
   "execution_count": 103,
   "id": "0e819379",
   "metadata": {},
   "outputs": [],
   "source": [
    "def get_padded_sequences(tokenizer,sentences):\n",
    "    \n",
    "    # tokenizer instance containing the word-index dictionary\n",
    "    #sentences: list of sentences to tokenize and pad\n",
    "    \n",
    "    #convert sentence to sequences\n",
    "    sequences = tokenizer.texts_to_sequences(sentences)\n",
    "    \n",
    "    #pad the sequences using the post padding strategy\n",
    "    padded_sequences = pad_sequences(sequences, padding='post')\n",
    "    \n",
    "    return padded_sequences, sequences"
   ]
  },
  {
   "cell_type": "code",
   "execution_count": 107,
   "id": "6f67c580",
   "metadata": {},
   "outputs": [
    {
     "data": {
      "text/plain": [
       "[[96,\n",
       "  176,\n",
       "  1157,\n",
       "  1220,\n",
       "  54,\n",
       "  1122,\n",
       "  742,\n",
       "  5211,\n",
       "  85,\n",
       "  1074,\n",
       "  4267,\n",
       "  147,\n",
       "  184,\n",
       "  4127,\n",
       "  1344,\n",
       "  1311,\n",
       "  1595,\n",
       "  47,\n",
       "  9,\n",
       "  949,\n",
       "  96,\n",
       "  4,\n",
       "  6516,\n",
       "  329,\n",
       "  92,\n",
       "  23,\n",
       "  17,\n",
       "  140,\n",
       "  3128,\n",
       "  1330,\n",
       "  2519,\n",
       "  576,\n",
       "  419,\n",
       "  1277,\n",
       "  72,\n",
       "  2963,\n",
       "  3046,\n",
       "  1755,\n",
       "  10,\n",
       "  894,\n",
       "  4,\n",
       "  755,\n",
       "  12,\n",
       "  954,\n",
       "  19513,\n",
       "  11,\n",
       "  656,\n",
       "  1578,\n",
       "  1053,\n",
       "  414,\n",
       "  4,\n",
       "  1999,\n",
       "  1220,\n",
       "  778,\n",
       "  54,\n",
       "  502,\n",
       "  1497,\n",
       "  2114,\n",
       "  1652,\n",
       "  135,\n",
       "  333,\n",
       "  123,\n",
       "  2744,\n",
       "  817,\n",
       "  5212,\n",
       "  1088,\n",
       "  609,\n",
       "  12,\n",
       "  4413,\n",
       "  4128,\n",
       "  894,\n",
       "  2580,\n",
       "  147,\n",
       "  351,\n",
       "  184,\n",
       "  4127,\n",
       "  8812,\n",
       "  5798,\n",
       "  44,\n",
       "  73,\n",
       "  3218,\n",
       "  31,\n",
       "  11,\n",
       "  2,\n",
       "  5473,\n",
       "  22,\n",
       "  2,\n",
       "  1397,\n",
       "  145,\n",
       "  454,\n",
       "  9,\n",
       "  138,\n",
       "  1398,\n",
       "  82,\n",
       "  4598,\n",
       "  488,\n",
       "  5213,\n",
       "  96,\n",
       "  1053,\n",
       "  87,\n",
       "  6517,\n",
       "  83,\n",
       "  2115,\n",
       "  63,\n",
       "  8813,\n",
       "  96,\n",
       "  8,\n",
       "  1123,\n",
       "  634,\n",
       "  85,\n",
       "  1074,\n",
       "  96,\n",
       "  1970,\n",
       "  148,\n",
       "  159,\n",
       "  420,\n",
       "  11,\n",
       "  2879,\n",
       "  46,\n",
       "  56,\n",
       "  149,\n",
       "  1221,\n",
       "  85,\n",
       "  1074,\n",
       "  4414,\n",
       "  5,\n",
       "  13,\n",
       "  9,\n",
       "  488,\n",
       "  5213,\n",
       "  3129,\n",
       "  13,\n",
       "  8,\n",
       "  2693,\n",
       "  6967,\n",
       "  412,\n",
       "  1097,\n",
       "  8814,\n",
       "  1376,\n",
       "  616,\n",
       "  1469,\n",
       "  2079,\n",
       "  14968,\n",
       "  756,\n",
       "  11,\n",
       "  502,\n",
       "  1497,\n",
       "  2114,\n",
       "  135,\n",
       "  1918,\n",
       "  410,\n",
       "  895,\n",
       "  2080,\n",
       "  1618,\n",
       "  43,\n",
       "  1819,\n",
       "  2581,\n",
       "  4995,\n",
       "  5474,\n",
       "  2520,\n",
       "  251,\n",
       "  11,\n",
       "  2635,\n",
       "  83,\n",
       "  818,\n",
       "  8,\n",
       "  1089,\n",
       "  1133,\n",
       "  149,\n",
       "  797,\n",
       "  577,\n",
       "  8815,\n",
       "  136,\n",
       "  31,\n",
       "  1397,\n",
       "  1820,\n",
       "  445,\n",
       "  4,\n",
       "  90,\n",
       "  955,\n",
       "  117,\n",
       "  23,\n",
       "  17,\n",
       "  22,\n",
       "  3397,\n",
       "  19514,\n",
       "  42,\n",
       "  1453,\n",
       "  2,\n",
       "  12593,\n",
       "  28,\n",
       "  42,\n",
       "  99,\n",
       "  362,\n",
       "  2392,\n",
       "  42,\n",
       "  24,\n",
       "  464,\n",
       "  243,\n",
       "  2080,\n",
       "  1377,\n",
       "  341,\n",
       "  5475,\n",
       "  326,\n",
       "  818,\n",
       "  1134,\n",
       "  22,\n",
       "  2636,\n",
       "  1819,\n",
       "  5474,\n",
       "  297,\n",
       "  736,\n",
       "  4,\n",
       "  1176,\n",
       "  414,\n",
       "  2043,\n",
       "  400,\n",
       "  412,\n",
       "  2043,\n",
       "  3,\n",
       "  1312,\n",
       "  12594,\n",
       "  1819,\n",
       "  1853,\n",
       "  70,\n",
       "  19515,\n",
       "  19516,\n",
       "  1794,\n",
       "  333,\n",
       "  1821,\n",
       "  3398,\n",
       "  13,\n",
       "  1201,\n",
       "  414,\n",
       "  48,\n",
       "  857,\n",
       "  21,\n",
       "  270,\n",
       "  2964,\n",
       "  366,\n",
       "  63,\n",
       "  571,\n",
       "  410,\n",
       "  3,\n",
       "  19517,\n",
       "  19518,\n",
       "  671,\n",
       "  1313,\n",
       "  205,\n",
       "  96,\n",
       "  3993,\n",
       "  96,\n",
       "  105,\n",
       "  47,\n",
       "  9,\n",
       "  352,\n",
       "  414,\n",
       "  87,\n",
       "  949,\n",
       "  14969,\n",
       "  96,\n",
       "  1220,\n",
       "  410,\n",
       "  502,\n",
       "  11,\n",
       "  895,\n",
       "  2520,\n",
       "  46,\n",
       "  10919,\n",
       "  851,\n",
       "  2,\n",
       "  546,\n",
       "  403,\n",
       "  1854,\n",
       "  176,\n",
       "  572,\n",
       "  19519,\n",
       "  141,\n",
       "  9,\n",
       "  352,\n",
       "  87,\n",
       "  949,\n",
       "  1202,\n",
       "  1097,\n",
       "  1498,\n",
       "  368,\n",
       "  68,\n",
       "  2044,\n",
       "  1263,\n",
       "  786,\n",
       "  94,\n",
       "  262,\n",
       "  299,\n",
       "  1031,\n",
       "  82,\n",
       "  612,\n",
       "  368,\n",
       "  5,\n",
       "  2582,\n",
       "  736,\n",
       "  1330,\n",
       "  2300,\n",
       "  1667,\n",
       "  6968,\n",
       "  3848,\n",
       "  3219,\n",
       "  8814,\n",
       "  1097,\n",
       "  2043,\n",
       "  185,\n",
       "  395,\n",
       "  1556,\n",
       "  5,\n",
       "  87,\n",
       "  63,\n",
       "  571,\n",
       "  114,\n",
       "  1157,\n",
       "  6,\n",
       "  12594,\n",
       "  975,\n",
       "  100,\n",
       "  3220,\n",
       "  26,\n",
       "  19520,\n",
       "  2347,\n",
       "  8816,\n",
       "  113,\n",
       "  769,\n",
       "  435,\n",
       "  440,\n",
       "  3,\n",
       "  6,\n",
       "  12594,\n",
       "  2637,\n",
       "  419,\n",
       "  4,\n",
       "  1499,\n",
       "  49,\n",
       "  87,\n",
       "  425,\n",
       "  38,\n",
       "  10,\n",
       "  1031,\n",
       "  894,\n",
       "  6969,\n",
       "  2580,\n",
       "  36,\n",
       "  4268,\n",
       "  96,\n",
       "  1722,\n",
       "  852,\n",
       "  85,\n",
       "  1074,\n",
       "  96,\n",
       "  1970,\n",
       "  7520,\n",
       "  36,\n",
       "  10,\n",
       "  1515,\n",
       "  6970,\n",
       "  6971,\n",
       "  4129,\n",
       "  1470,\n",
       "  4267,\n",
       "  648,\n",
       "  8812,\n",
       "  3849,\n",
       "  1123,\n",
       "  572,\n",
       "  4130,\n",
       "  3218,\n",
       "  12,\n",
       "  911,\n",
       "  648,\n",
       "  72,\n",
       "  19521,\n",
       "  2,\n",
       "  1345,\n",
       "  6140,\n",
       "  6970,\n",
       "  96,\n",
       "  1471,\n",
       "  1007,\n",
       "  5473,\n",
       "  8812,\n",
       "  586,\n",
       "  4131,\n",
       "  12,\n",
       "  11,\n",
       "  2,\n",
       "  248,\n",
       "  2114,\n",
       "  96,\n",
       "  135,\n",
       "  19522,\n",
       "  106,\n",
       "  648,\n",
       "  3047,\n",
       "  8812,\n",
       "  72,\n",
       "  500,\n",
       "  712,\n",
       "  2475,\n",
       "  3849,\n",
       "  5214,\n",
       "  3515,\n",
       "  403,\n",
       "  4794,\n",
       "  44,\n",
       "  13,\n",
       "  4598,\n",
       "  9749,\n",
       "  96,\n",
       "  1777,\n",
       "  712,\n",
       "  296,\n",
       "  122,\n",
       "  287,\n",
       "  2808,\n",
       "  344,\n",
       "  657,\n",
       "  72,\n",
       "  3994,\n",
       "  762,\n",
       "  3739,\n",
       "  5473,\n",
       "  163,\n",
       "  19523,\n",
       "  410,\n",
       "  9,\n",
       "  13,\n",
       "  82,\n",
       "  1778,\n",
       "  1053,\n",
       "  824,\n",
       "  874,\n",
       "  89,\n",
       "  609,\n",
       "  3130,\n",
       "  1378,\n",
       "  1578,\n",
       "  9750,\n",
       "  1668,\n",
       "  9,\n",
       "  13,\n",
       "  949,\n",
       "  87,\n",
       "  87]]"
      ]
     },
     "execution_count": 107,
     "metadata": {},
     "output_type": "execute_result"
    }
   ],
   "source": [
    "padded_sequences,type2 = get_padded_sequences(tokenizer,sentences)\n",
    "type2[:1]"
   ]
  },
  {
   "cell_type": "code",
   "execution_count": 77,
   "id": "aa425100",
   "metadata": {},
   "outputs": [
    {
     "name": "stdout",
     "output_type": "stream",
     "text": [
      "<class 'numpy.ndarray'>\n"
     ]
    }
   ],
   "source": [
    "print(type(padded_sequences))"
   ]
  },
  {
   "cell_type": "code",
   "execution_count": 78,
   "id": "9aec38e4",
   "metadata": {},
   "outputs": [
    {
     "name": "stdout",
     "output_type": "stream",
     "text": [
      "[[  96  176 1157 ...    0    0    0]\n",
      " [1619  610  252 ...    0    0    0]\n",
      " [4997 6975 3852 ...    0    0    0]\n",
      " ...\n",
      " [1883  715 1281 ...    0    0    0]\n",
      " [2397 1205  309 ...    0    0    0]\n",
      " [  14  238 2642 ...    0    0    0]]\n"
     ]
    }
   ],
   "source": [
    "print(padded_sequences[:10])"
   ]
  },
  {
   "cell_type": "code",
   "execution_count": 79,
   "id": "4d44f506",
   "metadata": {},
   "outputs": [
    {
     "name": "stdout",
     "output_type": "stream",
     "text": [
      "(2225, 2438)\n"
     ]
    }
   ],
   "source": [
    "print(padded_sequences.shape)"
   ]
  },
  {
   "cell_type": "code",
   "execution_count": 83,
   "id": "3b6f1458",
   "metadata": {},
   "outputs": [
    {
     "name": "stdout",
     "output_type": "stream",
     "text": [
      "[  96  176 1157 ...    0    0    0]\n"
     ]
    }
   ],
   "source": [
    "# first padded sequence\n",
    "print(padded_sequences[0])"
   ]
  },
  {
   "cell_type": "code",
   "execution_count": 91,
   "id": "1960c9f8",
   "metadata": {},
   "outputs": [],
   "source": [
    "def tokenize_labels(labels):\n",
    "    #labels: list of strings\n",
    "    \n",
    "    #instantiate the tokenizer\n",
    "    label_tokenizer = Tokenizer()\n",
    "    \n",
    "    #fit the tokenizer to the labels\n",
    "    label_tokenizer.fit_on_texts(labels)\n",
    "    \n",
    "    #save the word index\n",
    "    label_word_index = label_tokenizer.word_index\n",
    "    \n",
    "    #save the sequences\n",
    "    label_sequences  = label_tokenizer.texts_to_sequences(labels)\n",
    "    \n",
    "    return label_sequences, label_word_index"
   ]
  },
  {
   "cell_type": "code",
   "execution_count": 92,
   "id": "97ed827e",
   "metadata": {},
   "outputs": [],
   "source": [
    "label_sequences,label_word_index = tokenize_labels(labels)"
   ]
  },
  {
   "cell_type": "code",
   "execution_count": 94,
   "id": "c9d05f35",
   "metadata": {},
   "outputs": [
    {
     "name": "stdout",
     "output_type": "stream",
     "text": [
      "<class 'list'>\n",
      "2225\n"
     ]
    }
   ],
   "source": [
    "print(type(label_sequences))\n",
    "print(len(label_sequences))"
   ]
  },
  {
   "cell_type": "code",
   "execution_count": 95,
   "id": "112e67e5",
   "metadata": {},
   "outputs": [
    {
     "name": "stdout",
     "output_type": "stream",
     "text": [
      "{'sport': 1, 'business': 2, 'politics': 3, 'tech': 4, 'entertainment': 5}\n"
     ]
    }
   ],
   "source": [
    "print(label_word_index)"
   ]
  },
  {
   "cell_type": "code",
   "execution_count": 96,
   "id": "fb1e59fd",
   "metadata": {},
   "outputs": [
    {
     "name": "stdout",
     "output_type": "stream",
     "text": [
      "[[4], [2], [1], [1], [5], [3], [3], [1], [1], [5]]\n"
     ]
    }
   ],
   "source": [
    "print(label_sequences[:10])"
   ]
  },
  {
   "cell_type": "code",
   "execution_count": null,
   "id": "c1c3d3b7",
   "metadata": {},
   "outputs": [],
   "source": []
  }
 ],
 "metadata": {
  "kernelspec": {
   "display_name": "Python 3 (ipykernel)",
   "language": "python",
   "name": "python3"
  },
  "language_info": {
   "codemirror_mode": {
    "name": "ipython",
    "version": 3
   },
   "file_extension": ".py",
   "mimetype": "text/x-python",
   "name": "python",
   "nbconvert_exporter": "python",
   "pygments_lexer": "ipython3",
   "version": "3.9.13"
  }
 },
 "nbformat": 4,
 "nbformat_minor": 5
}
