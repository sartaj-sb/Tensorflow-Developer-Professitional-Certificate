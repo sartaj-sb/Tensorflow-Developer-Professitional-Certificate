{
  "nbformat": 4,
  "nbformat_minor": 0,
  "metadata": {
    "colab": {
      "provenance": [],
      "authorship_tag": "ABX9TyNee5Y7j++TOO02Ci9SZ3uR",
      "include_colab_link": true
    },
    "kernelspec": {
      "name": "python3",
      "display_name": "Python 3"
    },
    "language_info": {
      "name": "python"
    }
  },
  "cells": [
    {
      "cell_type": "markdown",
      "metadata": {
        "id": "view-in-github",
        "colab_type": "text"
      },
      "source": [
        "<a href=\"https://colab.research.google.com/github/sartaj-sb/Tensorflow-Developer-Professitional-Certificate/blob/main/NLP/padding.ipynb\" target=\"_parent\"><img src=\"https://colab.research.google.com/assets/colab-badge.svg\" alt=\"Open In Colab\"/></a>"
      ]
    },
    {
      "cell_type": "code",
      "execution_count": 2,
      "metadata": {
        "id": "5pkQRy4-7LBS"
      },
      "outputs": [],
      "source": [
        "import tensorflow as tf\n",
        "from tensorflow import keras\n",
        "from tensorflow.keras.preprocessing.text import Tokenizer\n"
      ]
    },
    {
      "cell_type": "code",
      "source": [
        "sentences = [\n",
        "    'I love my dog!',\n",
        "    'my name is sartaj!',\n",
        "    'I love my cat',\n",
        "    'there are around 3 people how to here'\n",
        "]\n",
        "\n",
        "tokenizer = Tokenizer(num_words=100)\n",
        "tokenizer.fit_on_texts(sentences)\n",
        "word_index = tokenizer.word_index\n",
        "print(word_index)\n",
        "sequences = tokenizer.texts_to_sequences(sentences)\n",
        "print(sequences)"
      ],
      "metadata": {
        "colab": {
          "base_uri": "https://localhost:8080/"
        },
        "id": "GEGb7NTO7kfS",
        "outputId": "058fb648-cdf7-46cb-f3c6-4b2551dc4a51"
      },
      "execution_count": 14,
      "outputs": [
        {
          "output_type": "stream",
          "name": "stdout",
          "text": [
            "{'my': 1, 'i': 2, 'love': 3, 'dog': 4, 'name': 5, 'is': 6, 'sartaj': 7, 'cat': 8, 'there': 9, 'are': 10, 'around': 11, '3': 12, 'people': 13, 'how': 14, 'to': 15, 'here': 16}\n",
            "[[2, 3, 1, 4], [1, 5, 6, 7], [2, 3, 1, 8], [9, 10, 11, 12, 13, 14, 15, 16]]\n"
          ]
        }
      ]
    },
    {
      "cell_type": "code",
      "source": [
        "from tensorflow.keras.preprocessing.sequence import pad_sequences\n",
        "padded = pad_sequences(sequences, maxlen=5)\n",
        "print(padded)\n",
        "padded2 = pad_sequences(sequences,padding='post')\n",
        "print(padded2)\n",
        "padded3 = pad_sequences(sequences,padding='post',maxlen=5)\n",
        "print(padded3)\n",
        "padded4 = pad_sequences(sequences,padding='post',maxlen=5, truncating = 'post')\n",
        "print(padded4)"
      ],
      "metadata": {
        "id": "Xlj7JiP58vn2",
        "outputId": "ad7ce451-45db-4788-b752-85c7c348f859",
        "colab": {
          "base_uri": "https://localhost:8080/"
        }
      },
      "execution_count": 21,
      "outputs": [
        {
          "output_type": "stream",
          "name": "stdout",
          "text": [
            "[[ 0  2  3  1  4]\n",
            " [ 0  1  5  6  7]\n",
            " [ 0  2  3  1  8]\n",
            " [12 13 14 15 16]]\n",
            "[[ 2  3  1  4  0  0  0  0]\n",
            " [ 1  5  6  7  0  0  0  0]\n",
            " [ 2  3  1  8  0  0  0  0]\n",
            " [ 9 10 11 12 13 14 15 16]]\n",
            "[[ 2  3  1  4  0]\n",
            " [ 1  5  6  7  0]\n",
            " [ 2  3  1  8  0]\n",
            " [12 13 14 15 16]]\n",
            "[[ 2  3  1  4  0]\n",
            " [ 1  5  6  7  0]\n",
            " [ 2  3  1  8  0]\n",
            " [ 9 10 11 12 13]]\n"
          ]
        }
      ]
    },
    {
      "cell_type": "code",
      "source": [],
      "metadata": {
        "id": "7L6yJe4XVtJ9"
      },
      "execution_count": null,
      "outputs": []
    }
  ]
}